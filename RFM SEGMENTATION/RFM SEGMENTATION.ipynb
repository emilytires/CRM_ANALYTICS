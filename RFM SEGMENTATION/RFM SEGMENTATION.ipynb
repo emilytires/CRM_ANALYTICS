{
 "cells": [
  {
   "cell_type": "markdown",
   "metadata": {},
   "source": [
    "# RFM SEGMENTATION"
   ]
  },
  {
   "cell_type": "code",
   "execution_count": 23,
   "metadata": {},
   "outputs": [],
   "source": [
    "import datetime as dt\n",
    "import pandas as pd\n",
    "pd.set_option('display.max_columns', None)"
   ]
  },
  {
   "cell_type": "code",
   "execution_count": null,
   "metadata": {},
   "outputs": [],
   "source": [
    "df_ = pd.read_excel(\"online_retail_II.xlsx\", sheet_name=\"Year 2010-2011\")\n",
    "df = df_.copy()"
   ]
  },
  {
   "cell_type": "code",
   "execution_count": null,
   "metadata": {},
   "outputs": [],
   "source": [
    "df = df[~df[\"Invoice\"].str.contains(\"C\", na=False)]\n",
    "df[\"TotalPrice\"] = df[\"Quantity\"] * df[\"Price\"]"
   ]
  },
  {
   "cell_type": "code",
   "execution_count": null,
   "metadata": {},
   "outputs": [],
   "source": [
    "def check_rfm(dataframe):\n",
    "    print(\"How many nulls are there?\\n\", dataframe.isnull().sum())\n",
    "    print(\"########################################################\")\n",
    "    print(\"What is the unique number of products?\\n\", dataframe[\"Description\"].nunique())\n",
    "    print(\"########################################################\")\n",
    "    print(\"How many pieces of which product are there?\\n\", dataframe[\"Description\"].value_counts())\n",
    "    print(\"########################################################\")\n",
    "    print(\"What is the most ordered product?\\n\", dataframe.groupby(\"Description\").\n",
    "          agg({\"Quantity\": \"sum\"}).sort_values(\"Quantity\", ascending=False).head())\n",
    "    print(\"########################################################\")\n",
    "    print(\"How many invoices have been issued?\\n\", dataframe[\"Invoice\"].nunique())\n",
    "    print(\"########################################################\")\n",
    "    print(\"How much money is earned on average per invoice?\\n\", dataframe.groupby(\"Invoice\").\n",
    "          agg({\"TotalPrice\":\"mean\"}).sort_values(\"TotalPrice\", ascending=False).head())\n",
    "    print(\"########################################################\")\n",
    "    print(\"Which country made how much?\\n\", dataframe.groupby(\"Country\").\n",
    "          agg({\"TotalPrice\": \"sum\"}).sort_values(\"TotalPrice\", ascending=False).head())\n",
    "    print(\"########################################################\")\n",
    "    print(\"What is the distribution of values?\\n\", dataframe.describe([0.01, 0.05, 0.10, 0.25, 0.50, 0.75, 0.90, 0.95, 0.99]).T)\n",
    "check_rfm(df)"
   ]
  },
  {
   "cell_type": "code",
   "execution_count": null,
   "metadata": {},
   "outputs": [],
   "source": [
    "df.dropna(inplace=True)"
   ]
  },
  {
   "cell_type": "code",
   "execution_count": null,
   "metadata": {},
   "outputs": [],
   "source": [
    "df[\"InvoiceDate\"].max()"
   ]
  },
  {
   "cell_type": "code",
   "execution_count": null,
   "metadata": {},
   "outputs": [],
   "source": [
    "# RFM METRICS\n",
    "today_date = dt.datetime(2011, 12, 11)\n",
    "rfm = df.groupby('Customer ID').agg({'InvoiceDate': lambda date: (today_date - date.max()).days,\n",
    "                                     'Invoice': lambda num: len(num),\n",
    "                                     'TotalPrice': lambda TotalPrice: TotalPrice.sum()})\n",
    "rfm.columns = ['Recency', 'Frequency', 'Monetary']\n",
    "rfm = rfm[(rfm[\"Monetary\"]) > 0 & (rfm[\"Frequency\"] > 0)]\n",
    "rfm.head()"
   ]
  },
  {
   "cell_type": "code",
   "execution_count": null,
   "metadata": {},
   "outputs": [],
   "source": [
    "# RFM SCORES\n",
    "rfm[\"RecencyScore\"] = pd.qcut(rfm['Recency'], 5, labels=[5, 4, 3, 2, 1])\n",
    "rfm[\"FrequencyScore\"] = pd.qcut(rfm['Frequency'], 5, labels=[1, 2, 3, 4, 5])\n",
    "rfm[\"MonetaryScore\"] = pd.qcut(rfm['Monetary'], 5, labels=[1, 2, 3, 4, 5])\n",
    "rfm[\"RFM_SCORE\"] = (rfm['RecencyScore'].astype(str) +\n",
    "                    rfm['FrequencyScore'].astype(str) +\n",
    "                    rfm['MonetaryScore'].astype(str))\n",
    "rfm.head()"
   ]
  },
  {
   "cell_type": "code",
   "execution_count": null,
   "metadata": {},
   "outputs": [],
   "source": [
    "seg_map = {\n",
    "        r'[1-2][1-2]': 'Hibernating',\n",
    "        r'[1-2][3-4]': 'At_Risk',\n",
    "        r'[1-2]5': 'Cant_Loose',\n",
    "        r'3[1-2]': 'About_to_Sleep',\n",
    "        r'33': 'Need_Attention',\n",
    "        r'[3-4][4-5]': 'Loyal_Customers',\n",
    "        r'41': 'Promising',\n",
    "        r'51': 'New_Customers',\n",
    "        r'[4-5][2-3]': 'Potential_Loyalists',\n",
    "        r'5[4-5]': 'Champions'}\n",
    "rfm['Segment'] = rfm['RecencyScore'].astype(str) + rfm['FrequencyScore'].astype(str)\n",
    "rfm['Segment'] = rfm['Segment'].replace(seg_map, regex=True)\n",
    "rfm.head()"
   ]
  },
  {
   "cell_type": "code",
   "execution_count": null,
   "metadata": {},
   "outputs": [],
   "source": [
    "new_df = pd.DataFrame()\n",
    "new_df[\"Loyal_Customers\"] = rfm[rfm[\"Segment\"] == \"Loyal_Customers\"].index\n",
    "new_df.to_csv(\"Loyal_Customers.csv\")"
   ]
  },
  {
   "cell_type": "code",
   "execution_count": null,
   "metadata": {},
   "outputs": [],
   "source": [
    "# Create RFM Metrics and Scores Functions\n",
    "def rfm_metrics(dataframe):\n",
    "\n",
    "    today_date = dt.datetime(2011, 12, 11)\n",
    "    rfm = dataframe.groupby('Customer ID').agg({'InvoiceDate': lambda date: (today_date - date.max()).days,\n",
    "                                                'Invoice': lambda num: len(num),\n",
    "                                                'TotalPrice': lambda TotalPrice: TotalPrice.sum()})\n",
    "    rfm.columns = ['Recency', 'Frequency', 'Monetary']\n",
    "    rfm = rfm[(rfm[\"Monetary\"]) > 0 & (rfm[\"Frequency\"] > 0)]\n",
    "    return rfm\n",
    "\n",
    "rfm = rfm_metrics(df)\n",
    "\n",
    "\n",
    "def rfm_scores(rfm):\n",
    "\n",
    "    rfm[\"RecencyScore\"] = pd.qcut(rfm['Recency'], 5, labels=[5, 4, 3, 2, 1])\n",
    "    rfm[\"FrequencyScore\"] = pd.qcut(rfm['Frequency'], 5, labels=[1, 2, 3, 4, 5])\n",
    "    rfm[\"MonetaryScore\"] = pd.qcut(rfm['Monetary'], 5, labels=[1, 2, 3, 4, 5])\n",
    "    rfm[\"RFM_SCORE\"] = (rfm['RecencyScore'].astype(str) +\n",
    "                        rfm['FrequencyScore'].astype(str) +\n",
    "                        rfm['MonetaryScore'].astype(str))\n",
    "    return rfm\n",
    "\n",
    "rfm = rfm_scores(rfm)\n",
    "\n",
    "\n",
    "def rfm_segments(rfm):\n",
    "    seg_map = {\n",
    "        r'[1-2][1-2]': 'Hibernating',\n",
    "        r'[1-2][3-4]': 'At_Risk',\n",
    "        r'[1-2]5': 'Cant_Loose',\n",
    "        r'3[1-2]': 'About_to_Sleep',\n",
    "        r'33': 'Need_Attention',\n",
    "        r'[3-4][4-5]': 'Loyal_Customers',\n",
    "        r'41': 'Promising',\n",
    "        r'51': 'New_Customers',\n",
    "        r'[4-5][2-3]': 'Potential_Loyalists',\n",
    "        r'5[4-5]': 'Champions'}\n",
    "    rfm['Segment'] = rfm['RecencyScore'].astype(str) + rfm['FrequencyScore'].astype(str)\n",
    "    rfm['Segment'] = rfm['Segment'].replace(seg_map, regex=True)\n",
    "\n",
    "    return rfm\n",
    "\n",
    "rfm = rfm_segments(rfm)"
   ]
  }
 ],
 "metadata": {
  "kernelspec": {
   "display_name": "Python 3",
   "language": "python",
   "name": "python3"
  },
  "language_info": {
   "codemirror_mode": {
    "name": "ipython",
    "version": 3
   },
   "file_extension": ".py",
   "mimetype": "text/x-python",
   "name": "python",
   "nbconvert_exporter": "python",
   "pygments_lexer": "ipython3",
   "version": "3.8.5"
  }
 },
 "nbformat": 4,
 "nbformat_minor": 4
}
